{
 "cells": [
  {
   "cell_type": "code",
   "execution_count": 3,
   "id": "8ca0b4d0",
   "metadata": {},
   "outputs": [
    {
     "name": "stdout",
     "output_type": "stream",
     "text": [
      "Pe Hasan\n"
     ]
    }
   ],
   "source": [
    "def fnc(name=\"pervez\"):\n",
    "    print(f\"{name} Hasan\")\n",
    "\n",
    "fnc(\"Pe\")"
   ]
  },
  {
   "cell_type": "code",
   "execution_count": null,
   "id": "f360823e",
   "metadata": {},
   "outputs": [],
   "source": []
  }
 ],
 "metadata": {
  "kernelspec": {
   "display_name": "Python 3 (ipykernel)",
   "language": "python",
   "name": "python3"
  },
  "language_info": {
   "codemirror_mode": {
    "name": "ipython",
    "version": 3
   },
   "file_extension": ".py",
   "mimetype": "text/x-python",
   "name": "python",
   "nbconvert_exporter": "python",
   "pygments_lexer": "ipython3",
   "version": "3.12.3"
  }
 },
 "nbformat": 4,
 "nbformat_minor": 5
}
