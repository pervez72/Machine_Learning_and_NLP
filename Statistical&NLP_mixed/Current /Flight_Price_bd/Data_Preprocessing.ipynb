{
 "cells": [
  {
   "cell_type": "code",
   "execution_count": 56,
   "id": "06d1366d",
   "metadata": {},
   "outputs": [],
   "source": [
    "import pandas as pd \n",
    "import numpy as np\n",
    "import matplotlib.pyplot as plt \n",
    "import seaborn as sns "
   ]
  },
  {
   "cell_type": "code",
   "execution_count": 57,
   "id": "0da8da32",
   "metadata": {},
   "outputs": [],
   "source": [
    "df=pd.read_csv('Flight_Price_Dataset_of_Bangladesh.csv')"
   ]
  },
  {
   "cell_type": "code",
   "execution_count": 58,
   "id": "6112b1c1",
   "metadata": {},
   "outputs": [],
   "source": [
    "# Data Preprocessig"
   ]
  },
  {
   "cell_type": "code",
   "execution_count": null,
   "id": "404b2dd2",
   "metadata": {},
   "outputs": [],
   "source": []
  },
  {
   "cell_type": "code",
   "execution_count": 60,
   "id": "3a772ec5",
   "metadata": {},
   "outputs": [
    {
     "data": {
      "text/plain": [
       "(57000, 17)"
      ]
     },
     "execution_count": 60,
     "metadata": {},
     "output_type": "execute_result"
    }
   ],
   "source": [
    "df.shape"
   ]
  },
  {
   "cell_type": "code",
   "execution_count": 61,
   "id": "1f1b34fe",
   "metadata": {},
   "outputs": [],
   "source": [
    "df.drop(['Departure Date & Time', 'Arrival Date & Time'], axis=1, inplace=True)"
   ]
  },
  {
   "cell_type": "code",
   "execution_count": 62,
   "id": "23c541de",
   "metadata": {},
   "outputs": [
    {
     "data": {
      "text/html": [
       "<div>\n",
       "<style scoped>\n",
       "    .dataframe tbody tr th:only-of-type {\n",
       "        vertical-align: middle;\n",
       "    }\n",
       "\n",
       "    .dataframe tbody tr th {\n",
       "        vertical-align: top;\n",
       "    }\n",
       "\n",
       "    .dataframe thead th {\n",
       "        text-align: right;\n",
       "    }\n",
       "</style>\n",
       "<table border=\"1\" class=\"dataframe\">\n",
       "  <thead>\n",
       "    <tr style=\"text-align: right;\">\n",
       "      <th></th>\n",
       "      <th>Airline</th>\n",
       "      <th>Source</th>\n",
       "      <th>Source Name</th>\n",
       "      <th>Destination</th>\n",
       "      <th>Destination Name</th>\n",
       "      <th>Duration (hrs)</th>\n",
       "      <th>Stopovers</th>\n",
       "      <th>Aircraft Type</th>\n",
       "      <th>Class</th>\n",
       "      <th>Booking Source</th>\n",
       "      <th>Base Fare (BDT)</th>\n",
       "      <th>Tax &amp; Surcharge (BDT)</th>\n",
       "      <th>Total Fare (BDT)</th>\n",
       "      <th>Seasonality</th>\n",
       "      <th>Days Before Departure</th>\n",
       "    </tr>\n",
       "  </thead>\n",
       "  <tbody>\n",
       "    <tr>\n",
       "      <th>0</th>\n",
       "      <td>Malaysian Airlines</td>\n",
       "      <td>CXB</td>\n",
       "      <td>Cox's Bazar Airport</td>\n",
       "      <td>CCU</td>\n",
       "      <td>Netaji Subhas Chandra Bose International Airpo...</td>\n",
       "      <td>1.219526</td>\n",
       "      <td>Direct</td>\n",
       "      <td>Airbus A320</td>\n",
       "      <td>Economy</td>\n",
       "      <td>Online Website</td>\n",
       "      <td>21131.225021</td>\n",
       "      <td>5169.683753</td>\n",
       "      <td>26300.908775</td>\n",
       "      <td>Regular</td>\n",
       "      <td>10</td>\n",
       "    </tr>\n",
       "    <tr>\n",
       "      <th>1</th>\n",
       "      <td>Cathay Pacific</td>\n",
       "      <td>BZL</td>\n",
       "      <td>Barisal Airport</td>\n",
       "      <td>CGP</td>\n",
       "      <td>Shah Amanat International Airport, Chittagong</td>\n",
       "      <td>0.608638</td>\n",
       "      <td>Direct</td>\n",
       "      <td>Airbus A320</td>\n",
       "      <td>First Class</td>\n",
       "      <td>Travel Agency</td>\n",
       "      <td>11605.395471</td>\n",
       "      <td>200.000000</td>\n",
       "      <td>11805.395471</td>\n",
       "      <td>Regular</td>\n",
       "      <td>14</td>\n",
       "    </tr>\n",
       "    <tr>\n",
       "      <th>2</th>\n",
       "      <td>British Airways</td>\n",
       "      <td>ZYL</td>\n",
       "      <td>Osmani International Airport, Sylhet</td>\n",
       "      <td>KUL</td>\n",
       "      <td>Kuala Lumpur International Airport</td>\n",
       "      <td>2.689651</td>\n",
       "      <td>1 Stop</td>\n",
       "      <td>Boeing 787</td>\n",
       "      <td>Economy</td>\n",
       "      <td>Travel Agency</td>\n",
       "      <td>39882.499349</td>\n",
       "      <td>11982.374902</td>\n",
       "      <td>51864.874251</td>\n",
       "      <td>Winter Holidays</td>\n",
       "      <td>83</td>\n",
       "    </tr>\n",
       "    <tr>\n",
       "      <th>3</th>\n",
       "      <td>Singapore Airlines</td>\n",
       "      <td>RJH</td>\n",
       "      <td>Shah Makhdum Airport, Rajshahi</td>\n",
       "      <td>DAC</td>\n",
       "      <td>Hazrat Shahjalal International Airport, Dhaka</td>\n",
       "      <td>0.686054</td>\n",
       "      <td>Direct</td>\n",
       "      <td>Airbus A320</td>\n",
       "      <td>Economy</td>\n",
       "      <td>Direct Booking</td>\n",
       "      <td>4435.607340</td>\n",
       "      <td>200.000000</td>\n",
       "      <td>4635.607340</td>\n",
       "      <td>Regular</td>\n",
       "      <td>56</td>\n",
       "    </tr>\n",
       "    <tr>\n",
       "      <th>4</th>\n",
       "      <td>British Airways</td>\n",
       "      <td>SPD</td>\n",
       "      <td>Saidpur Airport</td>\n",
       "      <td>YYZ</td>\n",
       "      <td>Toronto Pearson International Airport</td>\n",
       "      <td>14.055609</td>\n",
       "      <td>1 Stop</td>\n",
       "      <td>Airbus A350</td>\n",
       "      <td>Business</td>\n",
       "      <td>Direct Booking</td>\n",
       "      <td>59243.806146</td>\n",
       "      <td>14886.570922</td>\n",
       "      <td>74130.377068</td>\n",
       "      <td>Regular</td>\n",
       "      <td>90</td>\n",
       "    </tr>\n",
       "  </tbody>\n",
       "</table>\n",
       "</div>"
      ],
      "text/plain": [
       "              Airline Source                           Source Name  \\\n",
       "0  Malaysian Airlines    CXB                   Cox's Bazar Airport   \n",
       "1      Cathay Pacific    BZL                       Barisal Airport   \n",
       "2     British Airways    ZYL  Osmani International Airport, Sylhet   \n",
       "3  Singapore Airlines    RJH        Shah Makhdum Airport, Rajshahi   \n",
       "4     British Airways    SPD                       Saidpur Airport   \n",
       "\n",
       "  Destination                                   Destination Name  \\\n",
       "0         CCU  Netaji Subhas Chandra Bose International Airpo...   \n",
       "1         CGP      Shah Amanat International Airport, Chittagong   \n",
       "2         KUL                 Kuala Lumpur International Airport   \n",
       "3         DAC      Hazrat Shahjalal International Airport, Dhaka   \n",
       "4         YYZ              Toronto Pearson International Airport   \n",
       "\n",
       "   Duration (hrs) Stopovers Aircraft Type        Class  Booking Source  \\\n",
       "0        1.219526    Direct   Airbus A320      Economy  Online Website   \n",
       "1        0.608638    Direct   Airbus A320  First Class   Travel Agency   \n",
       "2        2.689651    1 Stop    Boeing 787      Economy   Travel Agency   \n",
       "3        0.686054    Direct   Airbus A320      Economy  Direct Booking   \n",
       "4       14.055609    1 Stop   Airbus A350     Business  Direct Booking   \n",
       "\n",
       "   Base Fare (BDT)  Tax & Surcharge (BDT)  Total Fare (BDT)      Seasonality  \\\n",
       "0     21131.225021            5169.683753      26300.908775          Regular   \n",
       "1     11605.395471             200.000000      11805.395471          Regular   \n",
       "2     39882.499349           11982.374902      51864.874251  Winter Holidays   \n",
       "3      4435.607340             200.000000       4635.607340          Regular   \n",
       "4     59243.806146           14886.570922      74130.377068          Regular   \n",
       "\n",
       "   Days Before Departure  \n",
       "0                     10  \n",
       "1                     14  \n",
       "2                     83  \n",
       "3                     56  \n",
       "4                     90  "
      ]
     },
     "execution_count": 62,
     "metadata": {},
     "output_type": "execute_result"
    }
   ],
   "source": [
    "df.head()"
   ]
  },
  {
   "cell_type": "code",
   "execution_count": null,
   "id": "d80ce923",
   "metadata": {},
   "outputs": [],
   "source": []
  }
 ],
 "metadata": {
  "kernelspec": {
   "display_name": "Python 3 (ipykernel)",
   "language": "python",
   "name": "python3"
  },
  "language_info": {
   "codemirror_mode": {
    "name": "ipython",
    "version": 3
   },
   "file_extension": ".py",
   "mimetype": "text/x-python",
   "name": "python",
   "nbconvert_exporter": "python",
   "pygments_lexer": "ipython3",
   "version": "3.12.3"
  }
 },
 "nbformat": 4,
 "nbformat_minor": 5
}
