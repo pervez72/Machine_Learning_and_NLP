# Import necessary 

import pandas as pd 
import matplotlib.pyplot as plt
import numpy as np


# both data set read 
df_train=pd.read_csv('train.csv')
df_test=pd.read_csv('test.csv')


df_test.shape


df_train.shape,df_test.shape
# hear, both data set columns are not equal.


if 'Survived' not in df_test.columns:  # যদি df_test ডেটাফ্রেমে 'Survived' কলাম না থাকে
    df_test['Survived'] = 0                # তাহলে df ডেটাফ্রেমে 'Survived' নামে একটি নতুন কলাম তৈরি কর এবং সব ভ্যালু 0 সেট কর


df_test.isnull().sum()


 df=pd.concat([df_train,df_test],axis=0)


# Preprocess method 

def Preprocess(df_train,df_test):
    df=pd.concat([df_train,df_test],axis=0)
    # কোন টার কি কাজ আমি লিখে দিব , ওই সেল এর নিচে 
    # axis=0 ডেটাফ্রেমগুলোকে একটির নিচে অন্যটি যুক্ত করা (সারি বাড়ানো)।
    # axis=1 অর্থ: ডেটাফ্রেমগুলোকে পাশাপাশি যুক্ত করা (কলাম বাড়ানো)।
    
    #drop()এ inplace=True না দিলে ডেটাফ্রেমে পরিবর্তন সেভ হয় না!
    df.drop(columns=['Name','Ticket'],axis=1,inplace=True)
    
    df['Age']=df['Age'].fillna(df['Age'].mean())
    df['Cabin']=df['Cabin'].fillna('x0000')
    df['Fare']=df['Fare'].fillna(df['Fare'].mean())
    df['Embarked']=df['Embarked'].fillna('x')
    
    
    
    #### Encodeing 
    # Cabin columns differnt create 
    df['Cabin_Letter'] = df['Cabin'].str.extract(r'([a-zA-Z]+)',expand=False)
    df['Cabin_Number'] = df['Cabin'].str.extract(r'(\d+)',expand=False)  # '123' কে সংখ্যায় রূপান্তর 
    df.drop(columns=['Cabin'],inplace=True)
    
# One Hot encodeing : 
    
    df=pd.get_dummies(df,columns=['Cabin_Letter'],prefix='Cabin')

    df=pd.get_dummies(df,columns=['Embarked'],prefix='Embarked')
    
    df=pd.get_dummies(df,columns=['Sex'],prefix='Sex')

    df['Cabin_Number']=df['Cabin_Number'].fillna('0')
    
    
    df=df.drop(columns=['Cabin_x','Embarked_x'],axis=1) # hunlde Encoder error,name not maind
    
    
    
    ############ Data set Slpiting before shape : create 2 Diffrent Dataset , আগের যে ডাটা সেট সিল টার মত করে / 
    
    df_train=df[:len(df_train)] # row 0 start and end df_train data till.
    df_test=df[len(df_train):] # when train data end start test data
    
    df_test=df.drop(columns=['Survived'],axis=0)
    
    
    
    
    '''
str.extract():

Pandas-এর স্ট্রিং মেথড যা রেগুলার এক্সপ্রেশন ব্যবহার করে টেক্সট থেকে প্যাটার্ন মেলে এমন অংশ বের করে।

r'([a-zA-Z]+)':

একটি রেগুলার এক্সপ্রেশন (regex) প্যাটার্ন

[a-zA-Z]: শুধুমাত্র ইংরেজি বর্ণ (ছোট হাতের a-z ও বড় হাতের A-Z) মেলাবে

+: এক বা একাধিক বর্ণ মেলাবে

expand=False:

রেজাল্টকে pandas Series হিসেবে রিটার্ন করে (ডিফল্টভাবে DataFrame রিটার্ন করে)
    '''
    
    return df_train, df_test




train_df, test_df= Preprocess(df_train,df_test)


print(len(train_df))


train_df.shape,test_df.shape


# Model Apply 

x=train_df.drop('Survived',axis=1)
y=train_df['Survived']

from sklearn.model_selection import train_test_split

x_train,y_train,x_test,y_test=train_test_split(x,y,test_size=.2,random_state=42)

# y_train=np.reshape(y_train,(-1,1))


train_df.shape


test_df.shape


x_train.shape , y_train.shape


from sklearn.linear_model import LogisticRegression

model1=LogisticRegression()

model1.fit(x_train,y_train)


modelPred=model1.predict()






