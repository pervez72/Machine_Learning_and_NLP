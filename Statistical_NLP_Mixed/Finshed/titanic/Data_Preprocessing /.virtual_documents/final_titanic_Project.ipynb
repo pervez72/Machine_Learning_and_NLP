# Import library
import pandas as pd 
import numpy as np


# File load 
df_train=pd.read_csv('train.csv')
df_test=pd.read_csv('test.csv')





# here test data output is missing 
# check train and test columns is are is not equal
df_train.shape, df_test.shape


df_train['Age']=df_train['Age'].fillna(df['Age'].mean())
df_train['Cabin']=df_train['Cabin'].fillna('x000')

df_train['Fare']=df_train['Fare'].fillna(df['Fare'].mean())
df_train['Embarked']=df_train['Embarked'].fillna('x')


#অপ্রয়োজনীয় কলাম ড্রপ করুন
df_train.drop(['Name', 'Ticket'], axis=1, inplace=True)


# # Cabin columns differnt create 
# here cabin columns = numberical and textual data is mixed , so diffrent it  .  
df_train['Cabin_Letter'] = df_train['Cabin'].str.extract(r'([a-zA-Z]+)',expand=False)
df_train['Cabin_Number'] = df_train['Cabin'].str.extract(r'(\d+)',expand=False)  # '123' কে সংখ্যায় রূপান্তর 
df_train.drop(columns=['Cabin'],inplace=True)
'''
str.extract():

Pandas-এর স্ট্রিং মেথড যা রেগুলার এক্সপ্রেশন ব্যবহার করে টেক্সট থেকে প্যাটার্ন মেলে এমন অংশ বের করে।

r'([a-zA-Z]+)':

একটি রেগুলার এক্সপ্রেশন (regex) প্যাটার্ন

[a-zA-Z]: শুধুমাত্র ইংরেজি বর্ণ (ছোট হাতের a-z ও বড় হাতের A-Z) মেলাবে

+: এক বা একাধিক বর্ণ মেলাবে

expand=False:

রেজাল্টকে pandas Series হিসেবে রিটার্ন করে (ডিফল্টভাবে DataFrame রিটার্ন করে)
'''


# ২. ফিচার ইঞ্জিনিয়ারিং
df_train['FamilySize'] = df_train['SibSp'] + df_train['Parch'] + 1
df_train['IsAlone'] = (df_train['FamilySize'] == 1).astype(int)






# Catagorical data Encodeing 
# use one hot encodeing 
df_train=pd.get_dummies(df,columns=['Cabin_Letter'],prefix='Cabin')
df_train=pd.get_dummies(df,columns=['Embarked'],prefix='Embarked')
df_train=pd.get_dummies(df,columns=['Sex'],prefix='Sex')








# hunlde Encoder error,name not maind 
df_train = df_train.drop('Cabin_x', axis = 1)
df_train= df_train.drop('Embarked_x', axis = 1)    





# Error Solved and why create error :
# গুরুত্বপূর্ণ টিপস
# সবসময় ক্যাটাগরিক্যাল ডেটাকে প্রপারলি এনকোড করুন (One-Hot Encoding)

# সংখ্যাগত কলামে টেক্সট ভ্যালু ('0000') থাকলে সেগুলোকে সংখ্যায় কনভার্ট করুন

# স্কেলিং এর পর NaN চেক করুন

# ট্রেন এবং টেস্ট ডেটায় একই প্রিপ্রসেসিং অ্যাপ্লাই করুন


# ভুল উপায়
df_train['Cabin_Number'] = df_train['Cabin_Number'].fillna('0000')  # এটি টেক্সট রাখে

# সঠিক উপায়
df_train['Cabin_Number'] = df_train['Cabin_Number'].replace('0000', 0).astype(float)


# # স্কেলিং এর পর NaN চেক করুন
# print("স্কেলিং এর পর NaN:", np.isnan(X_train_scaled).sum())

# # যদি NaN থাকে
# from sklearn.impute import SimpleImputer
# imputer = SimpleImputer(strategy='mean')
# X_train_scaled = imputer.fit_transform(X_train_scaled)
# X_test_scaled = imputer.transform(X_test_scaled)











# Preprocess Done then , model buliding 


# Split Data
X=train_df.drop('Survived',axis=1)
y=train_df['Survived']



# # Feture Scaleing 
# from sklearn.preprocessing import StandardScaler
# scaler = StandardScaler()
# X_train_scaled = scaler.fit_transform(X_train)
# X_test_scaled = scaler.transform(X_test)


X_train_scaled


# # Model Prediction
# from sklearn.linear_model import LogisticRegression

# model = LogisticRegression(max_iter=1000)

# model.fit(X_train_scaled, y_train)

# # প্রেডিকশন
# test_predictions = model.predict(X_test_scaled)


test_predictions


# from sklearn.ensemble import RandomForestClassifier
# from sklearn.model_selection import cross_val_score

# # RandomForestClassifier সঠিক প্যারামিটার দিয়ে
# cv_scores = cross_val_score(
#     RandomForestClassifier(n_estimators=100),  # max_iter এর বদলে n_estimators
#     X_train_scaled,
#     y_train,
#     cv=5,
#     scoring='accuracy'
# )

# print("ক্রস-ভ্যালিডেশন স্কোর:", cv_scores)
# print(f"গড় অ্যাকুরেসি: {cv_scores.mean():.2%} (±{cv_scores.std():.2%})")


# # ৮. সাবমিশন ফাইল তৈরি
# submission = pd.DataFrame({
#     'PassengerId': test_df['PassengerId'],
#     'Survived': test_predictions
# })
# submission.to_csv('submissionsds.csv', index=False)












