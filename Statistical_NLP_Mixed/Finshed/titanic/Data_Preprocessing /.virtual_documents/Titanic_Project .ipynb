# Import library

import pandas as pd 
import numpy as np


# File load 
df_train=pd.read_csv('train.csv')
df_test=pd.read_csv('test.csv')


# here test data output is missing 
# check train and test columns is are is not equal
df_train.shape, df_test.shape


df_train.info()








if 'Survived' not in df_test.columns:
    df_test['Survived']=0
    
# যদি df_test ডেটাফ্রেমে 'Survived' কলাম না থাকে
# তাহলে df ডেটাফ্রেমে 'Survived' নামে একটি নতুন কলাম তৈরি কর এবং সব ভ্যালু 0 সেট কর
# test set survived=0 এর কারন sklearn 2D array expect করে


df_train.head()





# Check null value check 
df_test.isnull().sum()


 df=pd.concat([df_train,df_test],axis=0)


def PreProcessing(df_train,df_test):
    df=pd.concat(df_train,df_test,axis=0) # train এবং test dataset টিক তখনি যোগ বা concat করব , যখন ডাটা Preprocess করব 
    
    # axis=0 ডেটাফ্রেমগুলোকে একটির নিচে অন্যটি যুক্ত করা (সারি বাড়ানো)।
    # axis=1 অর্থ: ডেটাফ্রেমগুলোকে পাশাপাশি যুক্ত করা (কলাম বাড়ানো)।
    
    #drop()এ inplace=True না দিলে ডেটাফ্রেমে পরিবর্তন সেভ হয় না!
    #Unnessary columns delete 
    df.drop(columns=['Name','Ticket'],axis=1,inplace=True)
    #     null value hundle
    
    df['Age']=df['Age'].fillna(df['Age'].mean())
    df['Cabin']=df['Cabin'].fillna('x0000')
    df['Fare']=df['Fare'].fillna(df['Fare'].mean())
    df['Embarked']=df['Embarked'].fillna('x')
    
#     feture Engineering 
    # Cabin columns differnt create 
    df['Cabin_Letter'] = df['Cabin'].str.extract(r'([a-zA-Z]+)',expand=False)
    df['Cabin_Number'] = df['Cabin'].str.extract(r'(\d+)',expand=False)  # '123' কে সংখ্যায় রূপান্তর 
    df.drop(columns=['Cabin'],inplace=True)
    
    
#     now Encodeing 
    df=pd.get_dummies(df,columns=['Cabin_Letter'],prefix='Cabin')

    df=pd.get_dummies(df,columns=['Embarked'],prefix='Embarked')
    
    df=pd.get_dummies(df,columns=['Sex'],prefix='Sex')
    
    
#     agin cabin number null value hundle .
#      df['Cabin_Number']=df['Cabin_Number'].fillna('0')

 # hunlde Encoder error,name not maind
    df = df.drop('cabin_x', axis = 1)
    df = df.drop('Embarked_x', axis = 1)
    
    df['cabin_number'] = df['cabin_number'].fillna(0)
    df['cabin_number'] = pd.to_numeric(df['cabin_number'])
   
    
    
    
  


    return df




    
    
#     --------------
    
    
    '''
str.extract():

Pandas-এর স্ট্রিং মেথড যা রেগুলার এক্সপ্রেশন ব্যবহার করে টেক্সট থেকে প্যাটার্ন মেলে এমন অংশ বের করে।

r'([a-zA-Z]+)':

একটি রেগুলার এক্সপ্রেশন (regex) প্যাটার্ন

[a-zA-Z]: শুধুমাত্র ইংরেজি বর্ণ (ছোট হাতের a-z ও বড় হাতের A-Z) মেলাবে

+: এক বা একাধিক বর্ণ মেলাবে

expand=False:

রেজাল্টকে pandas Series হিসেবে রিটার্ন করে (ডিফল্টভাবে DataFrame রিটার্ন করে)
    '''



df= PreProcessing(df_train,df_test)












