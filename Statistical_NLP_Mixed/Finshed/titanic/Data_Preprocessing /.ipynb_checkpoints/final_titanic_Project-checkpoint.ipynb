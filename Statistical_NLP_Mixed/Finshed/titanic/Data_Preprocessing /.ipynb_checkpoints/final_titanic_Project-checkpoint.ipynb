{
 "cells": [
  {
   "cell_type": "code",
   "execution_count": 1,
   "id": "611e0ad4",
   "metadata": {},
   "outputs": [],
   "source": [
    "# Import library\n",
    "\n",
    "import pandas as pd \n",
    "import numpy as np"
   ]
  },
  {
   "cell_type": "code",
   "execution_count": 2,
   "id": "1bcfeee9",
   "metadata": {},
   "outputs": [],
   "source": [
    "# File load \n",
    "df_train=pd.read_csv('train.csv')\n",
    "df_test=pd.read_csv('test.csv')"
   ]
  },
  {
   "cell_type": "code",
   "execution_count": 3,
   "id": "728ba280",
   "metadata": {},
   "outputs": [
    {
     "data": {
      "text/plain": [
       "((891, 12), (418, 11))"
      ]
     },
     "execution_count": 3,
     "metadata": {},
     "output_type": "execute_result"
    }
   ],
   "source": [
    "# here test data output is missing \n",
    "# check train and test columns is are is not equal\n",
    "df_train.shape, df_test.shape"
   ]
  },
  {
   "cell_type": "code",
   "execution_count": 4,
   "id": "4ca19a7e",
   "metadata": {},
   "outputs": [],
   "source": [
    "if 'Survived' not in df_test.columns:\n",
    "    df_test['Survived']=0\n",
    "    \n",
    "# যদি df_test ডেটাফ্রেমে 'Survived' কলাম না থাকে\n",
    "# তাহলে df ডেটাফ্রেমে 'Survived' নামে একটি নতুন কলাম তৈরি কর এবং সব ভ্যালু 0 সেট কর\n",
    "# test set survived=0 এর কারন sklearn 2D array expect করে"
   ]
  },
  {
   "cell_type": "code",
   "execution_count": 5,
   "id": "58a548b8",
   "metadata": {},
   "outputs": [
    {
     "data": {
      "text/html": [
       "<div>\n",
       "<style scoped>\n",
       "    .dataframe tbody tr th:only-of-type {\n",
       "        vertical-align: middle;\n",
       "    }\n",
       "\n",
       "    .dataframe tbody tr th {\n",
       "        vertical-align: top;\n",
       "    }\n",
       "\n",
       "    .dataframe thead th {\n",
       "        text-align: right;\n",
       "    }\n",
       "</style>\n",
       "<table border=\"1\" class=\"dataframe\">\n",
       "  <thead>\n",
       "    <tr style=\"text-align: right;\">\n",
       "      <th></th>\n",
       "      <th>PassengerId</th>\n",
       "      <th>Survived</th>\n",
       "      <th>Pclass</th>\n",
       "      <th>Name</th>\n",
       "      <th>Sex</th>\n",
       "      <th>Age</th>\n",
       "      <th>SibSp</th>\n",
       "      <th>Parch</th>\n",
       "      <th>Ticket</th>\n",
       "      <th>Fare</th>\n",
       "      <th>Cabin</th>\n",
       "      <th>Embarked</th>\n",
       "    </tr>\n",
       "  </thead>\n",
       "  <tbody>\n",
       "    <tr>\n",
       "      <th>0</th>\n",
       "      <td>1</td>\n",
       "      <td>0</td>\n",
       "      <td>3</td>\n",
       "      <td>Braund, Mr. Owen Harris</td>\n",
       "      <td>male</td>\n",
       "      <td>22.0</td>\n",
       "      <td>1</td>\n",
       "      <td>0</td>\n",
       "      <td>A/5 21171</td>\n",
       "      <td>7.2500</td>\n",
       "      <td>NaN</td>\n",
       "      <td>S</td>\n",
       "    </tr>\n",
       "    <tr>\n",
       "      <th>1</th>\n",
       "      <td>2</td>\n",
       "      <td>1</td>\n",
       "      <td>1</td>\n",
       "      <td>Cumings, Mrs. John Bradley (Florence Briggs Th...</td>\n",
       "      <td>female</td>\n",
       "      <td>38.0</td>\n",
       "      <td>1</td>\n",
       "      <td>0</td>\n",
       "      <td>PC 17599</td>\n",
       "      <td>71.2833</td>\n",
       "      <td>C85</td>\n",
       "      <td>C</td>\n",
       "    </tr>\n",
       "    <tr>\n",
       "      <th>2</th>\n",
       "      <td>3</td>\n",
       "      <td>1</td>\n",
       "      <td>3</td>\n",
       "      <td>Heikkinen, Miss. Laina</td>\n",
       "      <td>female</td>\n",
       "      <td>26.0</td>\n",
       "      <td>0</td>\n",
       "      <td>0</td>\n",
       "      <td>STON/O2. 3101282</td>\n",
       "      <td>7.9250</td>\n",
       "      <td>NaN</td>\n",
       "      <td>S</td>\n",
       "    </tr>\n",
       "    <tr>\n",
       "      <th>3</th>\n",
       "      <td>4</td>\n",
       "      <td>1</td>\n",
       "      <td>1</td>\n",
       "      <td>Futrelle, Mrs. Jacques Heath (Lily May Peel)</td>\n",
       "      <td>female</td>\n",
       "      <td>35.0</td>\n",
       "      <td>1</td>\n",
       "      <td>0</td>\n",
       "      <td>113803</td>\n",
       "      <td>53.1000</td>\n",
       "      <td>C123</td>\n",
       "      <td>S</td>\n",
       "    </tr>\n",
       "    <tr>\n",
       "      <th>4</th>\n",
       "      <td>5</td>\n",
       "      <td>0</td>\n",
       "      <td>3</td>\n",
       "      <td>Allen, Mr. William Henry</td>\n",
       "      <td>male</td>\n",
       "      <td>35.0</td>\n",
       "      <td>0</td>\n",
       "      <td>0</td>\n",
       "      <td>373450</td>\n",
       "      <td>8.0500</td>\n",
       "      <td>NaN</td>\n",
       "      <td>S</td>\n",
       "    </tr>\n",
       "  </tbody>\n",
       "</table>\n",
       "</div>"
      ],
      "text/plain": [
       "   PassengerId  Survived  Pclass  \\\n",
       "0            1         0       3   \n",
       "1            2         1       1   \n",
       "2            3         1       3   \n",
       "3            4         1       1   \n",
       "4            5         0       3   \n",
       "\n",
       "                                                Name     Sex   Age  SibSp  \\\n",
       "0                            Braund, Mr. Owen Harris    male  22.0      1   \n",
       "1  Cumings, Mrs. John Bradley (Florence Briggs Th...  female  38.0      1   \n",
       "2                             Heikkinen, Miss. Laina  female  26.0      0   \n",
       "3       Futrelle, Mrs. Jacques Heath (Lily May Peel)  female  35.0      1   \n",
       "4                           Allen, Mr. William Henry    male  35.0      0   \n",
       "\n",
       "   Parch            Ticket     Fare Cabin Embarked  \n",
       "0      0         A/5 21171   7.2500   NaN        S  \n",
       "1      0          PC 17599  71.2833   C85        C  \n",
       "2      0  STON/O2. 3101282   7.9250   NaN        S  \n",
       "3      0            113803  53.1000  C123        S  \n",
       "4      0            373450   8.0500   NaN        S  "
      ]
     },
     "execution_count": 5,
     "metadata": {},
     "output_type": "execute_result"
    }
   ],
   "source": [
    "df_train.head()"
   ]
  },
  {
   "cell_type": "code",
   "execution_count": 6,
   "id": "670c1dee",
   "metadata": {},
   "outputs": [
    {
     "data": {
      "text/plain": [
       "PassengerId      0\n",
       "Pclass           0\n",
       "Name             0\n",
       "Sex              0\n",
       "Age             86\n",
       "SibSp            0\n",
       "Parch            0\n",
       "Ticket           0\n",
       "Fare             1\n",
       "Cabin          327\n",
       "Embarked         0\n",
       "Survived         0\n",
       "dtype: int64"
      ]
     },
     "execution_count": 6,
     "metadata": {},
     "output_type": "execute_result"
    }
   ],
   "source": [
    "# Check null value check \n",
    "df_test.isnull().sum()"
   ]
  },
  {
   "cell_type": "code",
   "execution_count": 8,
   "id": "cd732cad",
   "metadata": {},
   "outputs": [],
   "source": [
    " df=pd.concat([df_train,df_test],axis=0)"
   ]
  },
  {
   "cell_type": "code",
   "execution_count": null,
   "id": "6e6c7840",
   "metadata": {},
   "outputs": [],
   "source": []
  },
  {
   "cell_type": "code",
   "execution_count": 77,
   "id": "749d37da",
   "metadata": {},
   "outputs": [],
   "source": [
    "def PreProcessing(df_train,df_test):\n",
    "    df=pd.concat(df_train,df_test,axis=0) # train এবং test dataset টিক তখনি যোগ বা concat করব , যখন ডাটা Preprocess করব \n",
    "    \n",
    "    # axis=0 ডেটাফ্রেমগুলোকে একটির নিচে অন্যটি যুক্ত করা (সারি বাড়ানো)।\n",
    "    # axis=1 অর্থ: ডেটাফ্রেমগুলোকে পাশাপাশি যুক্ত করা (কলাম বাড়ানো)।\n",
    "    \n",
    "    #drop()এ inplace=True না দিলে ডেটাফ্রেমে পরিবর্তন সেভ হয় না!\n",
    "    #Unnessary columns delete \n",
    "    df.drop(columns=['Name','Ticket'],axis=1,inplace=True)\n",
    "    #     null value hundle\n",
    "    \n",
    "    df['Age']=df['Age'].fillna(df['Age'].mean())\n",
    "    df['Cabin']=df['Cabin'].fillna('x0000')\n",
    "    df['Fare']=df['Fare'].fillna(df['Fare'].mean())\n",
    "    df['Embarked']=df['Embarked'].fillna('x')\n",
    "    \n",
    "#     feture Engineering \n",
    "    # Cabin columns differnt create \n",
    "    df['Cabin_Letter'] = df['Cabin'].str.extract(r'([a-zA-Z]+)',expand=False)\n",
    "    df['Cabin_Number'] = df['Cabin'].str.extract(r'(\\d+)',expand=False)  # '123' কে সংখ্যায় রূপান্তর \n",
    "    df.drop(columns=['Cabin'],inplace=True)\n",
    "    \n",
    "    \n",
    "#     now Encodeing \n",
    "    df=pd.get_dummies(df,columns=['Cabin_Letter'],prefix='Cabin')\n",
    "\n",
    "    df=pd.get_dummies(df,columns=['Embarked'],prefix='Embarked')\n",
    "    \n",
    "    df=pd.get_dummies(df,columns=['Sex'],prefix='Sex')\n",
    "    \n",
    "    \n",
    "#     agin cabin number null value hundle .\n",
    "#      df['Cabin_Number']=df['Cabin_Number'].fillna('0')\n",
    "\n",
    " # hunlde Encoder error,name not maind\n",
    "    df = df.drop('cabin_x', axis = 1)\n",
    "    df = df.drop('Embarked_x', axis = 1)\n",
    "    \n",
    "    df['cabin_number'] = df['cabin_number'].fillna(0)\n",
    "    df['cabin_number'] = pd.to_numeric(df['cabin_number'])\n",
    "   \n",
    "    \n",
    "    \n",
    "    \n",
    "  \n",
    "\n",
    "\n",
    "    return df\n",
    "\n",
    "\n",
    "\n",
    "\n",
    "    \n",
    "    \n",
    "#     --------------\n",
    "    \n",
    "    \n",
    "    '''\n",
    "str.extract():\n",
    "\n",
    "Pandas-এর স্ট্রিং মেথড যা রেগুলার এক্সপ্রেশন ব্যবহার করে টেক্সট থেকে প্যাটার্ন মেলে এমন অংশ বের করে।\n",
    "\n",
    "r'([a-zA-Z]+)':\n",
    "\n",
    "একটি রেগুলার এক্সপ্রেশন (regex) প্যাটার্ন\n",
    "\n",
    "[a-zA-Z]: শুধুমাত্র ইংরেজি বর্ণ (ছোট হাতের a-z ও বড় হাতের A-Z) মেলাবে\n",
    "\n",
    "+: এক বা একাধিক বর্ণ মেলাবে\n",
    "\n",
    "expand=False:\n",
    "\n",
    "রেজাল্টকে pandas Series হিসেবে রিটার্ন করে (ডিফল্টভাবে DataFrame রিটার্ন করে)\n",
    "    '''\n"
   ]
  },
  {
   "cell_type": "code",
   "execution_count": 78,
   "id": "a18459f3",
   "metadata": {},
   "outputs": [
    {
     "ename": "TypeError",
     "evalue": "concat() takes 1 positional argument but 2 positional arguments (and 1 keyword-only argument) were given",
     "output_type": "error",
     "traceback": [
      "\u001b[0;31m---------------------------------------------------------------------------\u001b[0m",
      "\u001b[0;31mTypeError\u001b[0m                                 Traceback (most recent call last)",
      "Cell \u001b[0;32mIn[78], line 1\u001b[0m\n\u001b[0;32m----> 1\u001b[0m df\u001b[38;5;241m=\u001b[39m PreProcessing(df_train,df_test)\n",
      "Cell \u001b[0;32mIn[77], line 2\u001b[0m, in \u001b[0;36mPreProcessing\u001b[0;34m(df_train, df_test)\u001b[0m\n\u001b[1;32m      1\u001b[0m \u001b[38;5;28;01mdef\u001b[39;00m \u001b[38;5;21mPreProcessing\u001b[39m(df_train,df_test):\n\u001b[0;32m----> 2\u001b[0m     df\u001b[38;5;241m=\u001b[39mpd\u001b[38;5;241m.\u001b[39mconcat(df_train,df_test,axis\u001b[38;5;241m=\u001b[39m\u001b[38;5;241m0\u001b[39m) \u001b[38;5;66;03m# train এবং test dataset টিক তখনি যোগ বা concat করব , যখন ডাটা Preprocess করব \u001b[39;00m\n\u001b[1;32m      4\u001b[0m     \u001b[38;5;66;03m# axis=0 ডেটাফ্রেমগুলোকে একটির নিচে অন্যটি যুক্ত করা (সারি বাড়ানো)।\u001b[39;00m\n\u001b[1;32m      5\u001b[0m     \u001b[38;5;66;03m# axis=1 অর্থ: ডেটাফ্রেমগুলোকে পাশাপাশি যুক্ত করা (কলাম বাড়ানো)।\u001b[39;00m\n\u001b[1;32m      6\u001b[0m     \n\u001b[1;32m      7\u001b[0m     \u001b[38;5;66;03m#drop()এ inplace=True না দিলে ডেটাফ্রেমে পরিবর্তন সেভ হয় না!\u001b[39;00m\n\u001b[1;32m      8\u001b[0m     \u001b[38;5;66;03m#Unnessary columns delete \u001b[39;00m\n\u001b[1;32m      9\u001b[0m     df\u001b[38;5;241m.\u001b[39mdrop(columns\u001b[38;5;241m=\u001b[39m[\u001b[38;5;124m'\u001b[39m\u001b[38;5;124mName\u001b[39m\u001b[38;5;124m'\u001b[39m,\u001b[38;5;124m'\u001b[39m\u001b[38;5;124mTicket\u001b[39m\u001b[38;5;124m'\u001b[39m],axis\u001b[38;5;241m=\u001b[39m\u001b[38;5;241m1\u001b[39m,inplace\u001b[38;5;241m=\u001b[39m\u001b[38;5;28;01mTrue\u001b[39;00m)\n",
      "\u001b[0;31mTypeError\u001b[0m: concat() takes 1 positional argument but 2 positional arguments (and 1 keyword-only argument) were given"
     ]
    }
   ],
   "source": [
    "df= PreProcessing(df_train,df_test)"
   ]
  },
  {
   "cell_type": "code",
   "execution_count": null,
   "id": "1eb96fc5",
   "metadata": {},
   "outputs": [],
   "source": []
  },
  {
   "cell_type": "code",
   "execution_count": null,
   "id": "ddb380e1",
   "metadata": {},
   "outputs": [],
   "source": []
  },
  {
   "cell_type": "code",
   "execution_count": null,
   "id": "b7cbb793",
   "metadata": {},
   "outputs": [],
   "source": []
  },
  {
   "cell_type": "code",
   "execution_count": null,
   "id": "87c671ed",
   "metadata": {},
   "outputs": [],
   "source": []
  }
 ],
 "metadata": {
  "kernelspec": {
   "display_name": "Python 3 (ipykernel)",
   "language": "python",
   "name": "python3"
  },
  "language_info": {
   "codemirror_mode": {
    "name": "ipython",
    "version": 3
   },
   "file_extension": ".py",
   "mimetype": "text/x-python",
   "name": "python",
   "nbconvert_exporter": "python",
   "pygments_lexer": "ipython3",
   "version": "3.12.3"
  }
 },
 "nbformat": 4,
 "nbformat_minor": 5
}
